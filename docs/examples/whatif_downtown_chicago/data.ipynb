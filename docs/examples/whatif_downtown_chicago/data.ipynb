{
 "cells": [
  {
   "cell_type": "code",
   "execution_count": null,
   "metadata": {},
   "outputs": [],
   "source": [
    "import sys\n",
    "\n",
    "sys.path.insert(0, '../../src/pythonComponents/dataLoading')   \n",
    "\n",
    "import utk\n"
   ]
  },
  {
   "attachments": {},
   "cell_type": "markdown",
   "metadata": {},
   "source": [
    "This script assumes the existance of the folder `public/data/whatif_downtown_chicago` and that `src/params.js` and `src/utk-map/ts/pythonServerConfig.json` are pointing to the right folder"
   ]
  },
  {
   "attachments": {},
   "cell_type": "markdown",
   "metadata": {},
   "source": [
    "### Loading layers from OSM"
   ]
  },
  {
   "attachments": {},
   "cell_type": "markdown",
   "metadata": {},
   "source": [
    "Loading water, parks, street network (roads), surface, buildings.  \n",
    "\n",
    "Notice that the buildings and surface layers are specified through an object, this structure is used to defined the discretization level of the layer. Check the [documentation](https://github.com/urban-toolkit/urbantk-react-ts/tree/master/src/pythonComponents/dataLoading/README.md) for more details.  \n",
    "\n",
    "The surface is loaded to allow for the ray tracing calculation.  "
   ]
  },
  {
   "cell_type": "code",
   "execution_count": null,
   "metadata": {},
   "outputs": [],
   "source": [
    "uc = utk.OSM.load([41.87796652663588, -87.63966282121991, 41.88988403517194, -87.60790546906293], layers=[{'name':'buildings', 'args': {'sizeCells': 5}}, {'name':'surface', 'args': {'sizeCells': 5}}, 'parks', 'water', 'roads'])\n",
    "uc.save('../../public/data/whatif_downtown_chicago', includeGrammar=False)"
   ]
  },
  {
   "attachments": {},
   "cell_type": "markdown",
   "metadata": {},
   "source": [
    "### Removing buildings"
   ]
  },
  {
   "attachments": {},
   "cell_type": "markdown",
   "metadata": {},
   "source": [
    "Since this is a whatif scenario simulation we are going to create a modified version of the buildings mesh without some of the buildings  \n",
    "\n",
    "To remove certain elements from a mesh it is necessary that the user knows its ids. In this example the ids are provided.  \n",
    "\n",
    "***Before removing the ids we will make a copy of all the buildings files and rename it to buildings_m***  "
   ]
  },
  {
   "cell_type": "code",
   "execution_count": null,
   "metadata": {},
   "outputs": [],
   "source": [
    "utk.remove_elements('../../../public/data/whatif_downtown_chicago/buildings_m.json', [94,4,132,133])"
   ]
  },
  {
   "attachments": {},
   "cell_type": "markdown",
   "metadata": {},
   "source": [
    "### Shadow computation for complete mesh (ray tracing)\n",
    "Check the [requirements](https://github.com/urban-toolkit/urbantk-react-ts/tree/master/README.md) for ray tracing."
   ]
  },
  {
   "cell_type": "code",
   "execution_count": null,
   "metadata": {},
   "outputs": [],
   "source": [
    "shadow = utk.data.shadow(['../../public/data/whatif_downtown_chicago/buildings.json', '../../public/data/downtown_manhattan/surface.json'], [[\"12/26/2015 15:00\", \"12/26/2015 17:01\"]])\n",
    "shadow.save()"
   ]
  },
  {
   "attachments": {},
   "cell_type": "markdown",
   "metadata": {},
   "source": [
    "***After computing the shadow for the complete mesh don't forget to rename the resulting files otherwise the next step will overwrite them***"
   ]
  },
  {
   "attachments": {},
   "cell_type": "markdown",
   "metadata": {},
   "source": [
    "### Shadow computation for modified mesh (ray tracing)"
   ]
  },
  {
   "attachments": {},
   "cell_type": "markdown",
   "metadata": {},
   "source": [
    "Check the [requirements](https://github.com/urban-toolkit/urbantk-react-ts/tree/master/README.md) for ray tracing."
   ]
  },
  {
   "cell_type": "code",
   "execution_count": null,
   "metadata": {},
   "outputs": [],
   "source": [
    "shadow = utk.data.shadow(['../../public/data/whatif_downtown_chicago/buildings_m.json', '../../public/data/downtown_manhattan/surface.json'], [[\"12/26/2015 15:00\", \"12/26/2015 17:01\"]])\n",
    "shadow.save()"
   ]
  },
  {
   "attachments": {},
   "cell_type": "markdown",
   "metadata": {},
   "source": [
    "### Visualizing\n",
    "Assumes that the application is running and the grammar specification is in the `public/data/whatif_downtown_chicago` folder"
   ]
  },
  {
   "cell_type": "code",
   "execution_count": null,
   "metadata": {},
   "outputs": [],
   "source": [
    "uc.view()"
   ]
  }
 ],
 "metadata": {
  "kernelspec": {
   "display_name": "urbantk",
   "language": "python",
   "name": "python3"
  },
  "language_info": {
   "codemirror_mode": {
    "name": "ipython",
    "version": 3
   },
   "file_extension": ".py",
   "mimetype": "text/x-python",
   "name": "python",
   "nbconvert_exporter": "python",
   "pygments_lexer": "ipython3",
   "version": "3.10.6"
  },
  "orig_nbformat": 4
 },
 "nbformat": 4,
 "nbformat_minor": 2
}
